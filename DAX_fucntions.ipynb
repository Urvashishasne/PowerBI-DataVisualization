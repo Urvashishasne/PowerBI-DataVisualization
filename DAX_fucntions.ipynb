{
 "cells": [
  {
   "cell_type": "markdown",
   "metadata": {},
   "source": [
    "# DAX Functions"
   ]
  },
  {
   "cell_type": "markdown",
   "metadata": {},
   "source": [
    "open PowerBI desktop -> Modelling -> New table -> write this query "
   ]
  },
  {
   "cell_type": "markdown",
   "metadata": {},
   "source": [
    "Create a table first    \n",
    "date Table = CALENDAR(DATE(2022,01,01),DATE(2023,01,01))"
   ]
  },
  {
   "cell_type": "markdown",
   "metadata": {},
   "source": [
    "Make a column for date      \n",
    "date Table = CALENDAR(DATE(2022,01,01),DATE(2023,01,01))"
   ]
  },
  {
   "cell_type": "markdown",
   "metadata": {},
   "source": [
    "Make a column for month with short name     \n",
    "month_nickname = FORMAT('date Table'[DateColumn].[Date],\"MMM\")"
   ]
  },
  {
   "cell_type": "markdown",
   "metadata": {},
   "source": [
    "Make a column for month with full name      \n",
    "month_Fullname = FORMAT('date Table'[DateColumn].[Date],\"MMMM\")"
   ]
  },
  {
   "cell_type": "markdown",
   "metadata": {},
   "source": [
    "create a column which shows month with number\n",
    "month_number = Month('date Table'[DateColumn].[Date])"
   ]
  },
  {
   "cell_type": "markdown",
   "metadata": {},
   "source": [
    "Create col. to show day of the week         \n",
    "Weekday = WEEKDAY('date Table'[DateColumn].[Date],1)"
   ]
  }
 ],
 "metadata": {
  "language_info": {
   "name": "python"
  }
 },
 "nbformat": 4,
 "nbformat_minor": 2
}
